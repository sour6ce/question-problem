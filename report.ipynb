{
 "cells": [
  {
   "cell_type": "markdown",
   "metadata": {},
   "source": [
    "# Tercer problema de DAA: La Pregunta\n",
    "*Equipo: pss pss | Gabriel Hernández Rodríguez C411*"
   ]
  },
  {
   "cell_type": "markdown",
   "metadata": {},
   "source": [
    "## Texto Original"
   ]
  },
  {
   "cell_type": "markdown",
   "metadata": {},
   "source": [
    "Estaba Karlos pasando (tal vez perdiendo) el tiempo cuando viene Karel y le hace una pregunta. Karlos quería responder que \"no\" a la pregunta, pero Karel le dijo que no era tan fácil, que la respuesta a esa pregunta iba a depender de un conjunto de pequeñas preguntas de \"si\" o \"no\" que este tenía. Luego, con las respuestas a esas preguntas de \"si\" o \"no\" armó una expresión booleana conformada por negaciones, expresiones \"and\", expresiones \"or\" e implicaciones de las pequeñas preguntas. La respuesta de la pregunta grande dependería de la expresión booleana que a la vez dependía de las pequeñas preguntas. Ayude a Karlos a encontrar si existe una distribución de respuestas a las pequeñas preguntas que le permitan responder que \"no\" a la pregunta grande."
   ]
  },
  {
   "cell_type": "markdown",
   "metadata": {},
   "source": [
    "## Orientación Concreta"
   ]
  },
  {
   "cell_type": "markdown",
   "metadata": {},
   "source": [
    "Dada una expresión booleana conteniendo operaciones de negación, \"and\", \"or\" y de implicación. Se debe saber si existe una combinación de valores Verdadero o Falso asignado a cada una de las variables de forma que la expresión en su totalidad de Falso."
   ]
  },
  {
   "cell_type": "markdown",
   "metadata": {},
   "source": [
    "## Análisis como problema NP-completo\n"
   ]
  },
  {
   "cell_type": "markdown",
   "metadata": {},
   "source": [
    "\n",
    "El problema es NP-completo, es decir, este problema es NP y a su vez NP-hard.\n",
    "\n",
    "Primero, se demuestra que el problema está en NP. Un problema está en NP si, dado un \"certificado\" (en este caso, una asignación de valores de verdad a las variables), se puede verificar en tiempo polinomial que este certificado resuelve el problema. En este problema, dada una asignación de valores de verdad a las variables, se puede evaluar la expresión booleana en tiempo polinomial para verificar si la expresión es Falsa. Por lo tanto, está en NP.\n",
    "\n",
    "Luego, se necesita demostrar que el problema es NP-hard. Para esto, se toma un problema que ya se sabe que es NP-completo y demostrar que cualquier instancia de ese problema se puede reducir en tiempo polinomial a una instancia de este problema. Si podemos hacer esto, entonces tu problema es al menos tan difícil como el problema de SAT, y por lo tanto es NP-difícil. \n",
    "\n",
    "El problema de SAT es un problema NP-completo fácilmente reducible a este problema: se toma cualquier expresión booleana $\\textbf{E}$ instancia del problema de SAT y creamos una nueva expresión $\\textbf{E}'$ que es la negación de $\\textbf{E}$ . Esta transformación se puede realizar en tiempo polinomial (en realidad, en tiempo lineal en el tamaño de $\\textbf{E}$  ya que basta con recorrer cada operación y cada variable a lo sumo una vez para negarlas). Luego, cualquier asignación de variables que no satisfaga $\\textbf{E}'$ (es decir, haga que $\\textbf{E}'$ sea Falsa) es una asignación que hace que $\\textbf{E}$ sea Verdadera. Por lo tanto, cualquier instancia del problema de SAT puede ser reducida.\n",
    "\n",
    "Luego el problema es NP-completo por ser NP y NP-hard."
   ]
  },
  {
   "cell_type": "markdown",
   "metadata": {},
   "source": [
    "## Definición de la instancia del problema"
   ]
  },
  {
   "cell_type": "markdown",
   "metadata": {},
   "source": [
    "Se considera una instancia del problema cualquier expresión que cumpla con lo mencionado en el texto de este, ahora se hace especial distinción sobre expresiones que se encuentran en forma normal disyuntiva y se resuelven de manera independiente, esto se debe a que en el problema SAT es común presentar la entrada en forma normal conjuntiva(*CNF*), así que se asume que la entrada de este se presenta así. Se diferencian estos casos ya que según el formato de la entrada se pueden realizar distintas soluciones y reducir una expresión a forma normal es en si un problema con complejidad temporal exponencial."
   ]
  },
  {
   "cell_type": "markdown",
   "metadata": {},
   "source": [
    "En el archivo de código que se importa a continuación se define haciendo uso de la librería `sympy` la estructura de una instancia del problema, la cual se compone de un árbol de expresiones booleanas."
   ]
  },
  {
   "cell_type": "code",
   "execution_count": 1,
   "metadata": {},
   "outputs": [],
   "source": [
    "from question.formula import QuestionInput"
   ]
  },
  {
   "cell_type": "markdown",
   "metadata": {},
   "source": [
    "Para la reducción del problema SAT a este problema, al asumir que se encuentra en forma normal conjuntiva (*CNF*), simplemente se realiza una negación de la fórmula y se obtiene una forma normal disyuntiva."
   ]
  },
  {
   "cell_type": "code",
   "execution_count": 2,
   "metadata": {},
   "outputs": [],
   "source": [
    "from question.reduction import from_sat_input"
   ]
  },
  {
   "cell_type": "markdown",
   "metadata": {},
   "source": [
    "Esta negación es a lo sumo $O(m+n)$ donde $m$ es la cantidad de operaciones en la expresión y $n$ la cantidad de variables, por tanto es lineal y como se mencionaba anteriormente polinomial."
   ]
  },
  {
   "cell_type": "markdown",
   "metadata": {},
   "source": [
    "Como el problema actual devuelve Verdadero si existe una combinación de valores que **no satisface** la expresión booleana de entrada, si esa expresión de entrada es resultado de negar una expresión booleana inicial que es entrada del problema SAT, entonces el problema devuelve Verdadero si existe una combinación de valores que **satisface** la expresión booleana de entrada del SAT, y por tanto la salida es directamente la solución del problema SAT."
   ]
  },
  {
   "cell_type": "markdown",
   "metadata": {},
   "source": [
    "## Solución Básica del Problema"
   ]
  },
  {
   "cell_type": "markdown",
   "metadata": {},
   "source": [
    "La solución básica propuesta para el problema es simplemente probar cada combinación posible de valores de verdad para las variables de la expresión de entrada y evaluar esta en cada uno de esos valores. Dadas $n$ variables y $m$ operaciones que se realizan en la expresión de entrada, la complejidad de evaluar la expresión en una combinación de valores es $O(m)$ y la de recorrer cada una de las posibles combinaciones de valores de verdad es $O(2^n)$, por tanto, la complejidad de esta solución en su totalidad es de $O(2^nm)$.\n",
    "\n",
    "Tanto para las soluciones de este problema como las de SAT que se presentan, el formato de la salida es una lista $L$, que representa una solución $V'={x_1,x_2,\\ldots,x_n}$ del problema tal que $\\forall x_{i}$ debe tener valor de verdad: *Verdadero* si $i\\in L$, *Falso* si $-i\\in L$. Por ser solución del problema se entiende: en el caso del SAT, dada una expresión $\\textbf{E}$ de entrada, $V'$ es solución si $\\textbf{E}(V')=Verdadero$, y en caso del problema actual si $\\textbf{E}'(V')=Falso$ siendo $\\textbf{E}'$ la expresión de entrada."
   ]
  },
  {
   "cell_type": "code",
   "execution_count": 3,
   "metadata": {},
   "outputs": [],
   "source": [
    "from question.solvers.basic import solve as basic_solve"
   ]
  },
  {
   "cell_type": "markdown",
   "metadata": {},
   "source": [
    "## Generación de inputs para prueba"
   ]
  },
  {
   "cell_type": "markdown",
   "metadata": {},
   "source": [
    "Para evaluar que efectivamente la reducción del problema SAT al actual es correcta se utilizan dos generadores de expresiones CNF para SAT que se evalúan con un solucionador de SAT y además se reducen al problema actual para usar un solucionador de este y comprobar que ambos resultados coinciden.\n",
    "\n",
    "Estos dos generadores son:\n",
    "- `generate_hard_sat`: El cual utiliza facilidades de la librería PySAT para generar expresiones ya conocidas y usadas comúnmente en el estudio del problema SAT. Contiene un número finito de fórmulas, específicamente 11. Esto se debe a que, debido a la velocidad de los solucionadores, las fórmulas que se utilizan para probar no deberían exceder las 19 variables. Todas estas fórmulas son no satisfacibles.\n",
    "- `generate_custom_NF`: Este generador, dada la cantidad de variables `n` y la cantidad máximade cláusulas `m` genera fórmulas CNF de manera aleatoria.\n",
    "\n",
    "Además de estos generadores se definen otros dos generadores que crean instancias de el problema actual(La Pregunta) directamente. Estos son:\n",
    "- `generate_tree`: Dada la cantidad de variables `n`, genera un árbol de expresiones booleanas aleatorio como entrada del problema.\n",
    "- `generate_custom_NF`: Dada la cantidad de variables `n`, y la cantidad máxima de cláusulas `m` genera una expresión DNF como entrada del problema.\n",
    "\n",
    "Todos estos generadores forman parte del sistema de prueba de soluciones. Dos generadores se llaman igual y son exactamente el mismo código, pero se diferencian por su función, una es para generar expresiones CNF para SAT y otra generar expresiones DNF para este problema, es el mismo código ya que ambas poseen el mismo formato y características similares."
   ]
  },
  {
   "cell_type": "code",
   "execution_count": 4,
   "metadata": {},
   "outputs": [],
   "source": [
    "from question.generation import generate_hard_sat, generate_custom_NF, generate_tree\n"
   ]
  },
  {
   "cell_type": "markdown",
   "metadata": {},
   "source": [
    "## Pruebas de Reducción"
   ]
  },
  {
   "cell_type": "code",
   "execution_count": 5,
   "metadata": {},
   "outputs": [
    {
     "name": "stdout",
     "output_type": "stream",
     "text": [
      "Terminado de evaluar con las expresiones de 5 variables.\n",
      "Terminado de evaluar con las expresiones de 8 variables.\n",
      "Terminado de evaluar con las expresiones de 12 variables.\n"
     ]
    }
   ],
   "source": [
    "#=========================================================================\n",
    "#= A continuación se prueba la reducción del problema SAT a La Pregunta\n",
    "#=========================================================================\n",
    "\n",
    "# Para resolver SAT y comprobar que la respuesta es correcta se utiliza\n",
    "# un solucionador ya comprobado\n",
    "from question.solvers.sat import mini_sat_solve\n",
    "\n",
    "# Primero las fórmulas de PySAT\n",
    "# for i in range(11):\n",
    "#     test=(generate_hard_sat(i))\n",
    "    \n",
    "#     # Solve\n",
    "#     sol=mini_sat_solve(test)\n",
    "#     # Reduce and solve\n",
    "#     res=basic_solve(from_sat_input(test))\n",
    "    \n",
    "#     print(f'CNF: {test.clauses}\\n\\t:: Reduction solution: {res}\\n\\t:: Minisat solution: {sol}')\n",
    "    \n",
    "#     assert sol==False and res==False\n",
    "    \n",
    "# Luego fórmulas generadas aleatoriamente. Con 5,8 y 12 variables, \n",
    "# con a lo sumo 10,20 y 80 cláusulas respectivamente. En cada una de estas\n",
    "# combinaciones se evalúan 15 expresiones aleatorias.\n",
    "CUSTOM_REDUC_PARAMS=[\n",
    "    (5,24),\n",
    "    (8,100),\n",
    "    (12,200)\n",
    "]\n",
    "for params in CUSTOM_REDUC_PARAMS:\n",
    "    for i in range(15):\n",
    "        test=(generate_custom_NF(*params))\n",
    "\n",
    "        # Solve\n",
    "        sol=mini_sat_solve(test)\n",
    "        # Reduce and solve\n",
    "        res=basic_solve(from_sat_input(test))\n",
    "\n",
    "\n",
    "\n",
    "        assert not((sol==False)^(res==False))\n",
    "                                \n",
    "    print(f'Terminado de evaluar con las expresiones de {params[0]} variables.')\n"
   ]
  },
  {
   "cell_type": "code",
   "execution_count": null,
   "metadata": {},
   "outputs": [],
   "source": []
  }
 ],
 "metadata": {
  "kernelspec": {
   "display_name": "question",
   "language": "python",
   "name": "question"
  },
  "language_info": {
   "codemirror_mode": {
    "name": "ipython",
    "version": 3
   },
   "file_extension": ".py",
   "mimetype": "text/x-python",
   "name": "python",
   "nbconvert_exporter": "python",
   "pygments_lexer": "ipython3",
   "version": "3.11.3"
  },
  "vscode": {
   "interpreter": {
    "hash": "3ad81efc3648efb4424c383fb17f942db3e518fc5b4d877002ae5a9e903cccc9"
   }
  }
 },
 "nbformat": 4,
 "nbformat_minor": 2
}
